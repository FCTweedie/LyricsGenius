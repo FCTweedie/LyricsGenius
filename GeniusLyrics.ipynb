{
 "cells": [
  {
   "cell_type": "code",
   "execution_count": 4,
   "metadata": {},
   "outputs": [],
   "source": [
    "import requests\n",
    "from IPython.display import clear_output\n",
    "import config\n",
    "import os\n",
    "import re\n",
    "import nltk\n",
    "import lyricsgenius as genius"
   ]
  },
  {
   "cell_type": "code",
   "execution_count": 5,
   "metadata": {},
   "outputs": [],
   "source": [
    "genius = genius.Genius('6DCU3BbmtrsQvH5G-bhKL5ECApN8g90NE-vsH0dl7T5ahhwV93-ZS-CKxKcMxYTn')"
   ]
  },
  {
   "cell_type": "code",
   "execution_count": 6,
   "metadata": {
    "scrolled": true
   },
   "outputs": [
    {
     "name": "stdout",
     "output_type": "stream",
     "text": [
      "Searching for songs by The Cure...\n",
      "\n",
      "Song 1: \"10:15 Saturday Night\"\n",
      "Song 2: \"10:15 Saturday Night (home demo)\"\n",
      "Song 3: \"10:15 Saturday Night (live)\"\n",
      "\n",
      "Reached user-specified song limit (3).\n",
      "Done. Found 3 songs.\n",
      "[('10:15 Saturday Night', 'The Cure'), ('10:15 Saturday Night (home demo)', 'The Cure'), ('10:15 Saturday Night (live)', 'The Cure')]\n"
     ]
    }
   ],
   "source": [
    "#test finding three songs\n",
    "artist = genius.search_artist(\"The Cure\", max_songs=3, sort=\"title\")\n",
    "print(artist.songs)"
   ]
  },
  {
   "cell_type": "code",
   "execution_count": 7,
   "metadata": {},
   "outputs": [],
   "source": [
    "#function to get lyrics for a named song and artist\n",
    "def getLyric(song, artist):\n",
    "        try: \n",
    "            return genius.search_song(song, artist).lyrics\n",
    "        except:\n",
    "            #if there was an error then the lyrics weren't found so return None\n",
    "            return"
   ]
  },
  {
   "cell_type": "code",
   "execution_count": 8,
   "metadata": {},
   "outputs": [
    {
     "name": "stdout",
     "output_type": "stream",
     "text": [
      "Searching for \"Lovesong\" by The Cure...\n",
      "Done.\n"
     ]
    }
   ],
   "source": [
    "#get lyrics for one song\n",
    "ls = getLyric(\"Lovesong\", \"The Cure\")\n",
    "#save lyrics to a text file\n",
    "lovesong = open(\"Lovesong.txt\", \"w\")\n",
    "lovesong.write(ls)\n",
    "lovesong.close()"
   ]
  },
  {
   "cell_type": "code",
   "execution_count": 9,
   "metadata": {},
   "outputs": [
    {
     "name": "stdout",
     "output_type": "stream",
     "text": [
      "Searching for songs by The Cure...\n",
      "\n",
      "Song 1: \"Just Like Heaven\"\n",
      "Song 2: \"Friday I’m in Love\"\n",
      "Song 3: \"Lovesong\"\n",
      "Song 4: \"Pictures of You\"\n",
      "Song 5: \"Boys Don’t Cry\"\n",
      "Song 6: \"Lullaby\"\n",
      "Song 7: \"Disintegration\"\n",
      "Song 8: \"Close to Me\"\n",
      "Song 9: \"In Between Days\"\n",
      "Song 10: \"A Forest\"\n",
      "\n",
      "Reached user-specified song limit (10).\n",
      "Done. Found 10 songs.\n"
     ]
    }
   ],
   "source": [
    "#get ten songs\n",
    "artist = genius.search_artist(\"The Cure\", max_songs=10, sort=\"popularity\")"
   ]
  },
  {
   "cell_type": "code",
   "execution_count": 10,
   "metadata": {},
   "outputs": [
    {
     "name": "stdout",
     "output_type": "stream",
     "text": [
      "The Cure, 10 songs\n"
     ]
    }
   ],
   "source": [
    "print(artist)"
   ]
  },
  {
   "cell_type": "code",
   "execution_count": 11,
   "metadata": {},
   "outputs": [
    {
     "data": {
      "text/plain": [
       "lyricsgenius.artist.Artist"
      ]
     },
     "execution_count": 11,
     "metadata": {},
     "output_type": "execute_result"
    }
   ],
   "source": [
    "#what sort of data is this?\n",
    "type(artist)"
   ]
  },
  {
   "cell_type": "code",
   "execution_count": 12,
   "metadata": {},
   "outputs": [
    {
     "data": {
      "text/plain": [
       "list"
      ]
     },
     "execution_count": 12,
     "metadata": {},
     "output_type": "execute_result"
    }
   ],
   "source": [
    "songs = artist.songs\n",
    "type(songs)"
   ]
  },
  {
   "cell_type": "code",
   "execution_count": 13,
   "metadata": {},
   "outputs": [
    {
     "data": {
      "text/plain": [
       "lyricsgenius.song.Song"
      ]
     },
     "execution_count": 13,
     "metadata": {},
     "output_type": "execute_result"
    }
   ],
   "source": [
    "type(songs[0])"
   ]
  },
  {
   "cell_type": "code",
   "execution_count": 14,
   "metadata": {},
   "outputs": [],
   "source": [
    "#create a list of song titles, as object 'song' can't be used \n",
    "title = []\n",
    "for song in songs:\n",
    "    if song is not None:\n",
    "        title.append(song.title)"
   ]
  },
  {
   "cell_type": "code",
   "execution_count": 15,
   "metadata": {},
   "outputs": [
    {
     "name": "stdout",
     "output_type": "stream",
     "text": [
      "['Just Like Heaven', 'Friday I’m in Love', 'Lovesong', 'Pictures of You', 'Boys Don’t Cry', 'Lullaby', 'Disintegration', 'Close to Me', 'In Between Days', 'A Forest']\n"
     ]
    }
   ],
   "source": [
    "#check that we have a list of titles\n",
    "print(title)"
   ]
  },
  {
   "cell_type": "code",
   "execution_count": null,
   "metadata": {},
   "outputs": [
    {
     "name": "stdout",
     "output_type": "stream",
     "text": [
      "Searching for \"Just Like Heaven\" by The Cure...\n"
     ]
    }
   ],
   "source": [
    "#output the lyrics of each song to a text file named with the title of the song\n",
    "for item in title:\n",
    "    words = getLyric(item, 'The Cure')\n",
    "    output = open((item)+'.txt','w')\n",
    "    output.write(words)\n",
    "    output.close    "
   ]
  },
  {
   "cell_type": "code",
   "execution_count": null,
   "metadata": {},
   "outputs": [],
   "source": [
    "#remove verse/ chorus tags from lyrics - test on one song\n",
    "ls = getLyric(\"Lovesong\", \"The Cure\")\n",
    "lsfixed = re.sub('\\[.*?\\]', '', ls)\n",
    "#save lyrics to a text file\n",
    "lovesong = open(\"Lovesong.txt\", \"w\")\n",
    "lovesong.write(lsfixed)\n",
    "lovesong.close()"
   ]
  },
  {
   "cell_type": "code",
   "execution_count": null,
   "metadata": {},
   "outputs": [],
   "source": [
    "#a function to call a song, remove tags and output to file. Requires song title and artist as inputs\n",
    "#todo: have it able to consume a list. How to get a useable song/ artist list out of Genius\n",
    "def songwriter(song, artist):\n",
    "    words = genius.search_song(song, artist).lyrics\n",
    "    words_notags = re.sub('\\[.*?\\]', '', words)\n",
    "    output= open((song)+'.txt', 'w')\n",
    "    output.write(words_notags)\n",
    "    output.close "
   ]
  },
  {
   "cell_type": "code",
   "execution_count": null,
   "metadata": {},
   "outputs": [],
   "source": [
    "songwriter(\"Lovecats\", \"The Cure\")"
   ]
  },
  {
   "cell_type": "code",
   "execution_count": 2,
   "metadata": {},
   "outputs": [],
   "source": [
    "from nltk import word_tokenize\n",
    "song = open('Lovecats.txt', \"r\").read() \n",
    "lyrics = word_tokenize(song)"
   ]
  },
  {
   "cell_type": "code",
   "execution_count": 5,
   "metadata": {},
   "outputs": [],
   "source": [
    "#apply part of speech tags\n",
    "tagged = nltk.pos_tag(lyrics, tagset='universal')"
   ]
  },
  {
   "cell_type": "code",
   "execution_count": 6,
   "metadata": {},
   "outputs": [
    {
     "data": {
      "text/plain": [
       "[('VERB', 63),\n",
       " ('NOUN', 60),\n",
       " ('PRON', 47),\n",
       " ('DET', 37),\n",
       " ('ADP', 25),\n",
       " ('.', 24),\n",
       " ('ADV', 20),\n",
       " ('ADJ', 17),\n",
       " ('CONJ', 12),\n",
       " ('PRT', 7),\n",
       " ('NUM', 2)]"
      ]
     },
     "execution_count": 6,
     "metadata": {},
     "output_type": "execute_result"
    }
   ],
   "source": [
    "#most frequent parts of speech\n",
    "tag_fd = nltk.FreqDist(tag for (word, tag) in tagged)\n",
    "tag_fd.most_common()"
   ]
  },
  {
   "cell_type": "code",
   "execution_count": 12,
   "metadata": {},
   "outputs": [
    {
     "name": "stdout",
     "output_type": "stream",
     "text": [
      "63\n",
      "[(\"'s\", 6), ('missed', 4), ('hissed', 4), ('should', 4), ('have', 4), ('could', 3), ('know', 3), ('go', 2), (\"'ll\", 2), ('show', 2)]\n"
     ]
    }
   ],
   "source": [
    "verblist = []\n",
    "for (word, tag) in tagged:\n",
    "    if tag == 'VERB':\n",
    "        verblist.append(word)\n",
    "print(len(verblist))\n",
    "verb_fd = nltk.FreqDist(verblist)\n",
    "print(verb_fd.most_common()[:10])"
   ]
  },
  {
   "cell_type": "code",
   "execution_count": 15,
   "metadata": {},
   "outputs": [
    {
     "name": "stdout",
     "output_type": "stream",
     "text": [
      "275\n",
      "105\n"
     ]
    }
   ],
   "source": [
    "vocab = [word for word in lyrics if word.isalpha()]\n",
    "vocab2 = [word.lower() for word in vocab]\n",
    "print(len(vocab2))\n",
    "print(len(set(vocab2)))"
   ]
  },
  {
   "cell_type": "code",
   "execution_count": null,
   "metadata": {},
   "outputs": [],
   "source": []
  }
 ],
 "metadata": {
  "kernelspec": {
   "display_name": "Python 3",
   "language": "python",
   "name": "python3"
  },
  "language_info": {
   "codemirror_mode": {
    "name": "ipython",
    "version": 3
   },
   "file_extension": ".py",
   "mimetype": "text/x-python",
   "name": "python",
   "nbconvert_exporter": "python",
   "pygments_lexer": "ipython3",
   "version": "3.7.3"
  }
 },
 "nbformat": 4,
 "nbformat_minor": 4
}
